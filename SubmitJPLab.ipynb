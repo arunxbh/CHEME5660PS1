{
 "cells": [
  {
   "cell_type": "code",
   "execution_count": 1,
   "id": "60cce41e-2b3a-4f2c-af2f-e90a28f2d221",
   "metadata": {},
   "outputs": [
    {
     "name": "stderr",
     "output_type": "stream",
     "text": [
      "\u001b[32m\u001b[1m    Updating\u001b[22m\u001b[39m git-repo `https://github.com/varnerlab/VLQuantitativeFinancePackage.jl.git`\n",
      "\u001b[32m\u001b[1m   Resolving\u001b[22m\u001b[39m package versions...\n",
      "\u001b[32m\u001b[1m  No Changes\u001b[22m\u001b[39m to `~/Documents/GitHub/Homework1/CHEME5660PS1/Project.toml`\n",
      "\u001b[32m\u001b[1m  No Changes\u001b[22m\u001b[39m to `~/Documents/GitHub/Homework1/CHEME5660PS1/Manifest.toml`\n",
      "\u001b[32m\u001b[1m  Activating\u001b[22m\u001b[39m project at `~/Documents/GitHub/Homework1/CHEME5660PS1`\n",
      "\u001b[32m\u001b[1m  No Changes\u001b[22m\u001b[39m to `~/Documents/GitHub/Homework1/CHEME5660PS1/Project.toml`\n",
      "\u001b[32m\u001b[1m  No Changes\u001b[22m\u001b[39m to `~/Documents/GitHub/Homework1/CHEME5660PS1/Manifest.toml`\n",
      "\u001b[32m\u001b[1m    Updating\u001b[22m\u001b[39m registry at `~/.julia/registries/General.toml`\n",
      "\u001b[32m\u001b[1m    Updating\u001b[22m\u001b[39m git-repo `https://github.com/varnerlab/VLQuantitativeFinancePackage.jl.git`\n",
      "\u001b[32m\u001b[1m  No Changes\u001b[22m\u001b[39m to `~/Documents/GitHub/Homework1/CHEME5660PS1/Project.toml`\n",
      "\u001b[32m\u001b[1m  No Changes\u001b[22m\u001b[39m to `~/Documents/GitHub/Homework1/CHEME5660PS1/Manifest.toml`\n",
      "\u001b[36m\u001b[1m[ \u001b[22m\u001b[39m\u001b[36m\u001b[1mInfo: \u001b[22m\u001b[39mPrecompiling IJuliaExt [2f4121a4-3b3a-5ce6-9c5e-1f2673ce168a]\n"
     ]
    },
    {
     "data": {
      "text/plain": [
       "securityterm"
      ]
     },
     "execution_count": 1,
     "metadata": {},
     "output_type": "execute_result"
    }
   ],
   "source": [
    "include(\"Include.jl\")\n"
   ]
  },
  {
   "cell_type": "code",
   "execution_count": 86,
   "id": "1034416b-ddf7-4322-be98-cc9bf2fc4604",
   "metadata": {},
   "outputs": [
    {
     "data": {
      "text/plain": [
       "main (generic function with 1 method)"
      ]
     },
     "execution_count": 86,
     "metadata": {},
     "output_type": "execute_result"
    }
   ],
   "source": [
    "function main()::Array{Float64, 2}\n",
    "    # initialize -\n",
    "    coupoun_bond_index = 5; # index of the coupon we are interested in CUSIP: 912810TT5 30-Year\n",
    "    discount_model = DiscreteCompoundingModel(); # discount model bounds are componded discretely semi-annually\n",
    "    number_of_samples = 3; # number of perturbation samples\n",
    "    β₁ = 0.8; # lower perturbation bound\n",
    "    β₂ = 1.2; # upper perturbation bound\n",
    "    β = range(β₁, stop = β₂, length = number_of_samples) |> collect; # array of perturbation values\n",
    "    bonds_dataset = MyTreasuryBondsDataSet(); # load the bonds data set\n",
    "    results_array = zeros(number_of_samples, 3); # initialize the results array\n",
    "\n",
    "    # build and populate the bond model: this holds the nominal bond data -\n",
    "    nominal_coupon_bond_model = build(MyUSTreasuryCouponSecurityModel, (\n",
    "        par = 100, λ = 2, \n",
    "        T = bonds_dataset[coupoun_bond_index, Symbol(\"Security Term\")] |> String |> securityterm,\n",
    "        rate = bonds_dataset[coupoun_bond_index, Symbol(\"High Yield\")], # this is the yield to maturity, i.e., the discount rate\n",
    "        coupon = bonds_dataset[coupoun_bond_index, Symbol(\"Interest Rate\")], # this is the coupon rate\n",
    "    )) |> discount_model;\n",
    "\n",
    "    # nominal price -\n",
    "    nominal_price = nominal_coupon_bond_model.price;\n",
    "\n",
    "    # TODO: main loop. You need to loop over the perturbation values and compute the price of the bond, \n",
    "    # store the percentage changes in the price in the results array.\n",
    "    for (i, n) ∈ enumerate(β)\n",
    "        perturbation_coupon_value = nominal_coupon_bond_model.coupon*n;\n",
    "        for (j, m) ∈ enumerate(β)\n",
    "            perturbation_yield_value = nominal_coupon_bond_model.rate*m\n",
    "            \n",
    "            perturbation_coupon_bond_model = build(MyUSTreasuryCouponSecurityModel, (\n",
    "                par = 100, λ = 2, \n",
    "                T = bonds_dataset[coupoun_bond_index, Symbol(\"Security Term\")] |> String |> securityterm,\n",
    "                rate = perturbation_yield_value,\n",
    "                coupon = perturbation_coupon_value, \n",
    "            )) |> discount_model;\n",
    "    \n",
    "        perturbation_price = perturbation_coupon_bond_model.price;\n",
    "        percentage_Δ = 100*((perturbation_price-nominal_price)/nominal_price);\n",
    "        results_array[i, j] = percentage_Δ;\n",
    "    # return -\n",
    "        end\n",
    "     end\n",
    "    return results_array;\n",
    "end"
   ]
  },
  {
   "cell_type": "code",
   "execution_count": 87,
   "id": "91d19e9e-492b-44f5-850a-698c910caef3",
   "metadata": {},
   "outputs": [
    {
     "name": "stdout",
     "output_type": "stream",
     "text": [
      "┌────────────────┬────────────┬───────────────┬────────────┐\n",
      "│\u001b[1m                \u001b[0m│\u001b[1m -20% yield \u001b[0m│\u001b[1m nominal yield \u001b[0m│\u001b[1m +20% yield \u001b[0m│\n",
      "├────────────────┼────────────┼───────────────┼────────────┤\n",
      "│    -20% coupon │   0.124594 │      -14.1704 │   -25.7984 │\n",
      "│ nominal coupon │      15.83 │           0.0 │   -12.9477 │\n",
      "│    +20% coupon │    31.5354 │       14.1704 │  -0.097004 │\n",
      "└────────────────┴────────────┴───────────────┴────────────┘\n"
     ]
    }
   ],
   "source": [
    "# run the main method, store the results in the simulation_results_array -\n",
    "simulation_results_array = main();\n",
    "\n",
    "# build a pretty table to display the results -\n",
    "(R,C) = size(simulation_results_array)\n",
    "pretty_table_data = Array{Any,2}(undef, R, C+1)\n",
    "\n",
    "# first col holds labels -\n",
    "for i ∈ 1:R\n",
    "    if (i == 1)\n",
    "        pretty_table_data[i,1] = \"-20% coupon\";\n",
    "    elseif (i == 3)\n",
    "        pretty_table_data[i,1] = \"+20% coupon\";\n",
    "    else\n",
    "        pretty_table_data[i,1] = \"nominal coupon\";\n",
    "    end\n",
    "end\n",
    "\n",
    "for i = 1:R\n",
    "    for j = 1:C\n",
    "        pretty_table_data[i,j+1] = simulation_results_array[i,j]\n",
    "    end\n",
    "end\n",
    "\n",
    "header_data = ([\"\", \"-20% yield\", \"nominal yield\", \"+20% yield\"])\n",
    "pretty_table(pretty_table_data, header=header_data)"
   ]
  },
  {
   "cell_type": "code",
   "execution_count": null,
   "id": "696399eb-8aa5-48c3-8052-47d664b35a20",
   "metadata": {},
   "outputs": [],
   "source": []
  }
 ],
 "metadata": {
  "kernelspec": {
   "display_name": "Julia 1.9.2",
   "language": "julia",
   "name": "julia-1.9"
  },
  "language_info": {
   "file_extension": ".jl",
   "mimetype": "application/julia",
   "name": "julia",
   "version": "1.9.2"
  }
 },
 "nbformat": 4,
 "nbformat_minor": 5
}
